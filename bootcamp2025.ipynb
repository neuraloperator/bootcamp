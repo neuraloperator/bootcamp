{
  "cells": [
    {
      "cell_type": "markdown",
      "id": "2c160c9c-a445-493e-9948-7ba507c606fb",
      "metadata": {
        "id": "2c160c9c-a445-493e-9948-7ba507c606fb"
      },
      "source": [
        "# Running bash commands from your notebook\n",
        "\n",
        "First, let's install all the dependencies.\n",
        "\n",
        "You can directly run bash commands in your notebook, by either prefixing your commands with an exclamation mark `!`:\n",
        "```ipython\n",
        "[1] !echo \"this is a bash command\"\n",
        "this is a bash command\n",
        "\n",
        "[2] !ls\n",
        "/home/user/git_repos/FNO_workshop\n",
        "```\n",
        "\n",
        "or by starting your cell with the `%%bash` ipython magic.\n",
        "\n",
        "Let's see a simple example:"
      ]
    },
    {
      "cell_type": "code",
      "execution_count": 1,
      "id": "24e20734-97e5-4295-9952-d67ac36b63a0",
      "metadata": {
        "colab": {
          "base_uri": "https://localhost:8080/"
        },
        "id": "24e20734-97e5-4295-9952-d67ac36b63a0",
        "outputId": "fadd0e7b-539f-4d2f-a675-250c0f167354"
      },
      "outputs": [
        {
          "output_type": "stream",
          "name": "stdout",
          "text": [
            "hello\n",
            "world\n"
          ]
        }
      ],
      "source": [
        "%%bash\n",
        "\n",
        "for var in hello world\n",
        "do\n",
        "  echo ${var}\n",
        "done"
      ]
    },
    {
      "cell_type": "markdown",
      "id": "5b47acb6-a558-40bf-bd76-872941fdf879",
      "metadata": {
        "id": "5b47acb6-a558-40bf-bd76-872941fdf879"
      },
      "source": [
        "# Installing the dependencies\n",
        "\n",
        "Now, let's install the dependencies."
      ]
    },
    {
      "cell_type": "code",
      "execution_count": 2,
      "id": "bcce1c3e-b4d7-44ea-8b98-bce1f04182cf",
      "metadata": {
        "colab": {
          "base_uri": "https://localhost:8080/"
        },
        "id": "bcce1c3e-b4d7-44ea-8b98-bce1f04182cf",
        "outputId": "5251b346-44af-4b50-a728-fb81f5a900f1"
      },
      "outputs": [
        {
          "output_type": "stream",
          "name": "stdout",
          "text": [
            "Collecting neuraloperator\n",
            "  Downloading neuraloperator-1.0.2-py3-none-any.whl.metadata (7.5 kB)\n",
            "Requirement already satisfied: wandb in /usr/local/lib/python3.11/dist-packages (from neuraloperator) (0.21.0)\n",
            "Collecting ruamel-yaml (from neuraloperator)\n",
            "  Downloading ruamel.yaml-0.18.14-py3-none-any.whl.metadata (24 kB)\n",
            "Collecting configmypy (from neuraloperator)\n",
            "  Downloading configmypy-0.2.0-py3-none-any.whl.metadata (5.0 kB)\n",
            "Collecting tensorly (from neuraloperator)\n",
            "  Downloading tensorly-0.9.0-py3-none-any.whl.metadata (8.6 kB)\n",
            "Collecting tensorly-torch (from neuraloperator)\n",
            "  Downloading tensorly_torch-0.5.0-py3-none-any.whl.metadata (4.6 kB)\n",
            "Collecting torch-harmonics==0.7.3 (from neuraloperator)\n",
            "  Downloading torch_harmonics-0.7.3.tar.gz (3.7 MB)\n",
            "\u001b[2K     \u001b[90m━━━━━━━━━━━━━━━━━━━━━━━━━━━━━━━━━━━━━━━━\u001b[0m \u001b[32m3.7/3.7 MB\u001b[0m \u001b[31m97.8 MB/s\u001b[0m eta \u001b[36m0:00:00\u001b[0m\n",
            "\u001b[?25h  Installing build dependencies ... \u001b[?25l\u001b[?25hdone\n",
            "  Getting requirements to build wheel ... \u001b[?25l\u001b[?25hdone\n",
            "  Preparing metadata (pyproject.toml) ... \u001b[?25l\u001b[?25hdone\n",
            "Requirement already satisfied: matplotlib in /usr/local/lib/python3.11/dist-packages (from neuraloperator) (3.10.0)\n",
            "Requirement already satisfied: numpy>=1.25 in /usr/local/lib/python3.11/dist-packages (from neuraloperator) (2.0.2)\n",
            "Requirement already satisfied: opt-einsum in /usr/local/lib/python3.11/dist-packages (from neuraloperator) (3.4.0)\n",
            "Requirement already satisfied: h5py in /usr/local/lib/python3.11/dist-packages (from neuraloperator) (3.14.0)\n",
            "Collecting zarr (from neuraloperator)\n",
            "  Downloading zarr-3.1.1-py3-none-any.whl.metadata (10 kB)\n",
            "Requirement already satisfied: torch>=2.4.0 in /usr/local/lib/python3.11/dist-packages (from torch-harmonics==0.7.3->neuraloperator) (2.6.0+cu124)\n",
            "Requirement already satisfied: pytest in /usr/local/lib/python3.11/dist-packages (from configmypy->neuraloperator) (8.4.1)\n",
            "Collecting pytest-mock (from configmypy->neuraloperator)\n",
            "  Downloading pytest_mock-3.14.1-py3-none-any.whl.metadata (3.9 kB)\n",
            "Requirement already satisfied: contourpy>=1.0.1 in /usr/local/lib/python3.11/dist-packages (from matplotlib->neuraloperator) (1.3.2)\n",
            "Requirement already satisfied: cycler>=0.10 in /usr/local/lib/python3.11/dist-packages (from matplotlib->neuraloperator) (0.12.1)\n",
            "Requirement already satisfied: fonttools>=4.22.0 in /usr/local/lib/python3.11/dist-packages (from matplotlib->neuraloperator) (4.59.0)\n",
            "Requirement already satisfied: kiwisolver>=1.3.1 in /usr/local/lib/python3.11/dist-packages (from matplotlib->neuraloperator) (1.4.8)\n",
            "Requirement already satisfied: packaging>=20.0 in /usr/local/lib/python3.11/dist-packages (from matplotlib->neuraloperator) (25.0)\n",
            "Requirement already satisfied: pillow>=8 in /usr/local/lib/python3.11/dist-packages (from matplotlib->neuraloperator) (11.3.0)\n",
            "Requirement already satisfied: pyparsing>=2.3.1 in /usr/local/lib/python3.11/dist-packages (from matplotlib->neuraloperator) (3.2.3)\n",
            "Requirement already satisfied: python-dateutil>=2.7 in /usr/local/lib/python3.11/dist-packages (from matplotlib->neuraloperator) (2.9.0.post0)\n",
            "Collecting ruamel.yaml.clib>=0.2.7 (from ruamel-yaml->neuraloperator)\n",
            "  Downloading ruamel.yaml.clib-0.2.12-cp311-cp311-manylinux_2_17_x86_64.manylinux2014_x86_64.whl.metadata (2.7 kB)\n",
            "Requirement already satisfied: scipy in /usr/local/lib/python3.11/dist-packages (from tensorly->neuraloperator) (1.16.0)\n",
            "Requirement already satisfied: click!=8.0.0,>=7.1 in /usr/local/lib/python3.11/dist-packages (from wandb->neuraloperator) (8.2.1)\n",
            "Requirement already satisfied: gitpython!=3.1.29,>=1.0.0 in /usr/local/lib/python3.11/dist-packages (from wandb->neuraloperator) (3.1.45)\n",
            "Requirement already satisfied: platformdirs in /usr/local/lib/python3.11/dist-packages (from wandb->neuraloperator) (4.3.8)\n",
            "Requirement already satisfied: protobuf!=4.21.0,!=5.28.0,<7,>=3.19.0 in /usr/local/lib/python3.11/dist-packages (from wandb->neuraloperator) (5.29.5)\n",
            "Requirement already satisfied: pydantic<3 in /usr/local/lib/python3.11/dist-packages (from wandb->neuraloperator) (2.11.7)\n",
            "Requirement already satisfied: pyyaml in /usr/local/lib/python3.11/dist-packages (from wandb->neuraloperator) (6.0.2)\n",
            "Requirement already satisfied: requests<3,>=2.0.0 in /usr/local/lib/python3.11/dist-packages (from wandb->neuraloperator) (2.32.3)\n",
            "Requirement already satisfied: sentry-sdk>=2.0.0 in /usr/local/lib/python3.11/dist-packages (from wandb->neuraloperator) (2.33.2)\n",
            "Requirement already satisfied: typing-extensions<5,>=4.8 in /usr/local/lib/python3.11/dist-packages (from wandb->neuraloperator) (4.14.1)\n",
            "Collecting donfig>=0.8 (from zarr->neuraloperator)\n",
            "  Downloading donfig-0.8.1.post1-py3-none-any.whl.metadata (5.0 kB)\n",
            "Collecting numcodecs>=0.14 (from numcodecs[crc32c]>=0.14->zarr->neuraloperator)\n",
            "  Downloading numcodecs-0.16.1-cp311-cp311-manylinux_2_17_x86_64.manylinux2014_x86_64.whl.metadata (3.3 kB)\n",
            "Requirement already satisfied: gitdb<5,>=4.0.1 in /usr/local/lib/python3.11/dist-packages (from gitpython!=3.1.29,>=1.0.0->wandb->neuraloperator) (4.0.12)\n",
            "Collecting crc32c>=2.7 (from numcodecs[crc32c]>=0.14->zarr->neuraloperator)\n",
            "  Downloading crc32c-2.7.1-cp311-cp311-manylinux_2_5_x86_64.manylinux1_x86_64.manylinux_2_17_x86_64.manylinux2014_x86_64.whl.metadata (7.3 kB)\n",
            "Requirement already satisfied: annotated-types>=0.6.0 in /usr/local/lib/python3.11/dist-packages (from pydantic<3->wandb->neuraloperator) (0.7.0)\n",
            "Requirement already satisfied: pydantic-core==2.33.2 in /usr/local/lib/python3.11/dist-packages (from pydantic<3->wandb->neuraloperator) (2.33.2)\n",
            "Requirement already satisfied: typing-inspection>=0.4.0 in /usr/local/lib/python3.11/dist-packages (from pydantic<3->wandb->neuraloperator) (0.4.1)\n",
            "Requirement already satisfied: six>=1.5 in /usr/local/lib/python3.11/dist-packages (from python-dateutil>=2.7->matplotlib->neuraloperator) (1.17.0)\n",
            "Requirement already satisfied: charset-normalizer<4,>=2 in /usr/local/lib/python3.11/dist-packages (from requests<3,>=2.0.0->wandb->neuraloperator) (3.4.2)\n",
            "Requirement already satisfied: idna<4,>=2.5 in /usr/local/lib/python3.11/dist-packages (from requests<3,>=2.0.0->wandb->neuraloperator) (3.10)\n",
            "Requirement already satisfied: urllib3<3,>=1.21.1 in /usr/local/lib/python3.11/dist-packages (from requests<3,>=2.0.0->wandb->neuraloperator) (2.5.0)\n",
            "Requirement already satisfied: certifi>=2017.4.17 in /usr/local/lib/python3.11/dist-packages (from requests<3,>=2.0.0->wandb->neuraloperator) (2025.7.14)\n",
            "Requirement already satisfied: filelock in /usr/local/lib/python3.11/dist-packages (from torch>=2.4.0->torch-harmonics==0.7.3->neuraloperator) (3.18.0)\n",
            "Requirement already satisfied: networkx in /usr/local/lib/python3.11/dist-packages (from torch>=2.4.0->torch-harmonics==0.7.3->neuraloperator) (3.5)\n",
            "Requirement already satisfied: jinja2 in /usr/local/lib/python3.11/dist-packages (from torch>=2.4.0->torch-harmonics==0.7.3->neuraloperator) (3.1.6)\n",
            "Requirement already satisfied: fsspec in /usr/local/lib/python3.11/dist-packages (from torch>=2.4.0->torch-harmonics==0.7.3->neuraloperator) (2025.3.0)\n",
            "Collecting nvidia-cuda-nvrtc-cu12==12.4.127 (from torch>=2.4.0->torch-harmonics==0.7.3->neuraloperator)\n",
            "  Downloading nvidia_cuda_nvrtc_cu12-12.4.127-py3-none-manylinux2014_x86_64.whl.metadata (1.5 kB)\n",
            "Collecting nvidia-cuda-runtime-cu12==12.4.127 (from torch>=2.4.0->torch-harmonics==0.7.3->neuraloperator)\n",
            "  Downloading nvidia_cuda_runtime_cu12-12.4.127-py3-none-manylinux2014_x86_64.whl.metadata (1.5 kB)\n",
            "Collecting nvidia-cuda-cupti-cu12==12.4.127 (from torch>=2.4.0->torch-harmonics==0.7.3->neuraloperator)\n",
            "  Downloading nvidia_cuda_cupti_cu12-12.4.127-py3-none-manylinux2014_x86_64.whl.metadata (1.6 kB)\n",
            "Collecting nvidia-cudnn-cu12==9.1.0.70 (from torch>=2.4.0->torch-harmonics==0.7.3->neuraloperator)\n",
            "  Downloading nvidia_cudnn_cu12-9.1.0.70-py3-none-manylinux2014_x86_64.whl.metadata (1.6 kB)\n",
            "Collecting nvidia-cublas-cu12==12.4.5.8 (from torch>=2.4.0->torch-harmonics==0.7.3->neuraloperator)\n",
            "  Downloading nvidia_cublas_cu12-12.4.5.8-py3-none-manylinux2014_x86_64.whl.metadata (1.5 kB)\n",
            "Collecting nvidia-cufft-cu12==11.2.1.3 (from torch>=2.4.0->torch-harmonics==0.7.3->neuraloperator)\n",
            "  Downloading nvidia_cufft_cu12-11.2.1.3-py3-none-manylinux2014_x86_64.whl.metadata (1.5 kB)\n",
            "Collecting nvidia-curand-cu12==10.3.5.147 (from torch>=2.4.0->torch-harmonics==0.7.3->neuraloperator)\n",
            "  Downloading nvidia_curand_cu12-10.3.5.147-py3-none-manylinux2014_x86_64.whl.metadata (1.5 kB)\n",
            "Collecting nvidia-cusolver-cu12==11.6.1.9 (from torch>=2.4.0->torch-harmonics==0.7.3->neuraloperator)\n",
            "  Downloading nvidia_cusolver_cu12-11.6.1.9-py3-none-manylinux2014_x86_64.whl.metadata (1.6 kB)\n",
            "Collecting nvidia-cusparse-cu12==12.3.1.170 (from torch>=2.4.0->torch-harmonics==0.7.3->neuraloperator)\n",
            "  Downloading nvidia_cusparse_cu12-12.3.1.170-py3-none-manylinux2014_x86_64.whl.metadata (1.6 kB)\n",
            "Requirement already satisfied: nvidia-cusparselt-cu12==0.6.2 in /usr/local/lib/python3.11/dist-packages (from torch>=2.4.0->torch-harmonics==0.7.3->neuraloperator) (0.6.2)\n",
            "Requirement already satisfied: nvidia-nccl-cu12==2.21.5 in /usr/local/lib/python3.11/dist-packages (from torch>=2.4.0->torch-harmonics==0.7.3->neuraloperator) (2.21.5)\n",
            "Requirement already satisfied: nvidia-nvtx-cu12==12.4.127 in /usr/local/lib/python3.11/dist-packages (from torch>=2.4.0->torch-harmonics==0.7.3->neuraloperator) (12.4.127)\n",
            "Collecting nvidia-nvjitlink-cu12==12.4.127 (from torch>=2.4.0->torch-harmonics==0.7.3->neuraloperator)\n",
            "  Downloading nvidia_nvjitlink_cu12-12.4.127-py3-none-manylinux2014_x86_64.whl.metadata (1.5 kB)\n",
            "Requirement already satisfied: triton==3.2.0 in /usr/local/lib/python3.11/dist-packages (from torch>=2.4.0->torch-harmonics==0.7.3->neuraloperator) (3.2.0)\n",
            "Requirement already satisfied: sympy==1.13.1 in /usr/local/lib/python3.11/dist-packages (from torch>=2.4.0->torch-harmonics==0.7.3->neuraloperator) (1.13.1)\n",
            "Requirement already satisfied: mpmath<1.4,>=1.1.0 in /usr/local/lib/python3.11/dist-packages (from sympy==1.13.1->torch>=2.4.0->torch-harmonics==0.7.3->neuraloperator) (1.3.0)\n",
            "Requirement already satisfied: iniconfig>=1 in /usr/local/lib/python3.11/dist-packages (from pytest->configmypy->neuraloperator) (2.1.0)\n",
            "Requirement already satisfied: pluggy<2,>=1.5 in /usr/local/lib/python3.11/dist-packages (from pytest->configmypy->neuraloperator) (1.6.0)\n",
            "Requirement already satisfied: pygments>=2.7.2 in /usr/local/lib/python3.11/dist-packages (from pytest->configmypy->neuraloperator) (2.19.2)\n",
            "Requirement already satisfied: smmap<6,>=3.0.1 in /usr/local/lib/python3.11/dist-packages (from gitdb<5,>=4.0.1->gitpython!=3.1.29,>=1.0.0->wandb->neuraloperator) (5.0.2)\n",
            "Requirement already satisfied: MarkupSafe>=2.0 in /usr/local/lib/python3.11/dist-packages (from jinja2->torch>=2.4.0->torch-harmonics==0.7.3->neuraloperator) (3.0.2)\n",
            "Downloading neuraloperator-1.0.2-py3-none-any.whl (186 kB)\n",
            "\u001b[2K   \u001b[90m━━━━━━━━━━━━━━━━━━━━━━━━━━━━━━━━━━━━━━━━\u001b[0m \u001b[32m186.9/186.9 kB\u001b[0m \u001b[31m19.1 MB/s\u001b[0m eta \u001b[36m0:00:00\u001b[0m\n",
            "\u001b[?25hDownloading configmypy-0.2.0-py3-none-any.whl (14 kB)\n",
            "Downloading ruamel.yaml-0.18.14-py3-none-any.whl (118 kB)\n",
            "\u001b[2K   \u001b[90m━━━━━━━━━━━━━━━━━━━━━━━━━━━━━━━━━━━━━━━━\u001b[0m \u001b[32m118.6/118.6 kB\u001b[0m \u001b[31m12.9 MB/s\u001b[0m eta \u001b[36m0:00:00\u001b[0m\n",
            "\u001b[?25hDownloading tensorly-0.9.0-py3-none-any.whl (7.4 MB)\n",
            "\u001b[2K   \u001b[90m━━━━━━━━━━━━━━━━━━━━━━━━━━━━━━━━━━━━━━━━\u001b[0m \u001b[32m7.4/7.4 MB\u001b[0m \u001b[31m126.8 MB/s\u001b[0m eta \u001b[36m0:00:00\u001b[0m\n",
            "\u001b[?25hDownloading tensorly_torch-0.5.0-py3-none-any.whl (59 kB)\n",
            "\u001b[2K   \u001b[90m━━━━━━━━━━━━━━━━━━━━━━━━━━━━━━━━━━━━━━━━\u001b[0m \u001b[32m59.3/59.3 kB\u001b[0m \u001b[31m6.8 MB/s\u001b[0m eta \u001b[36m0:00:00\u001b[0m\n",
            "\u001b[?25hDownloading zarr-3.1.1-py3-none-any.whl (255 kB)\n",
            "\u001b[2K   \u001b[90m━━━━━━━━━━━━━━━━━━━━━━━━━━━━━━━━━━━━━━━━\u001b[0m \u001b[32m255.4/255.4 kB\u001b[0m \u001b[31m27.5 MB/s\u001b[0m eta \u001b[36m0:00:00\u001b[0m\n",
            "\u001b[?25hDownloading donfig-0.8.1.post1-py3-none-any.whl (21 kB)\n",
            "Downloading numcodecs-0.16.1-cp311-cp311-manylinux_2_17_x86_64.manylinux2014_x86_64.whl (8.8 MB)\n",
            "\u001b[2K   \u001b[90m━━━━━━━━━━━━━━━━━━━━━━━━━━━━━━━━━━━━━━━━\u001b[0m \u001b[32m8.8/8.8 MB\u001b[0m \u001b[31m69.8 MB/s\u001b[0m eta \u001b[36m0:00:00\u001b[0m\n",
            "\u001b[?25hDownloading ruamel.yaml.clib-0.2.12-cp311-cp311-manylinux_2_17_x86_64.manylinux2014_x86_64.whl (739 kB)\n",
            "\u001b[2K   \u001b[90m━━━━━━━━━━━━━━━━━━━━━━━━━━━━━━━━━━━━━━━━\u001b[0m \u001b[32m739.1/739.1 kB\u001b[0m \u001b[31m57.0 MB/s\u001b[0m eta \u001b[36m0:00:00\u001b[0m\n",
            "\u001b[?25hDownloading nvidia_cublas_cu12-12.4.5.8-py3-none-manylinux2014_x86_64.whl (363.4 MB)\n",
            "\u001b[2K   \u001b[90m━━━━━━━━━━━━━━━━━━━━━━━━━━━━━━━━━━━━━━━━\u001b[0m \u001b[32m363.4/363.4 MB\u001b[0m \u001b[31m4.9 MB/s\u001b[0m eta \u001b[36m0:00:00\u001b[0m\n",
            "\u001b[?25hDownloading nvidia_cuda_cupti_cu12-12.4.127-py3-none-manylinux2014_x86_64.whl (13.8 MB)\n",
            "\u001b[2K   \u001b[90m━━━━━━━━━━━━━━━━━━━━━━━━━━━━━━━━━━━━━━━━\u001b[0m \u001b[32m13.8/13.8 MB\u001b[0m \u001b[31m67.1 MB/s\u001b[0m eta \u001b[36m0:00:00\u001b[0m\n",
            "\u001b[?25hDownloading nvidia_cuda_nvrtc_cu12-12.4.127-py3-none-manylinux2014_x86_64.whl (24.6 MB)\n",
            "\u001b[2K   \u001b[90m━━━━━━━━━━━━━━━━━━━━━━━━━━━━━━━━━━━━━━━━\u001b[0m \u001b[32m24.6/24.6 MB\u001b[0m \u001b[31m36.6 MB/s\u001b[0m eta \u001b[36m0:00:00\u001b[0m\n",
            "\u001b[?25hDownloading nvidia_cuda_runtime_cu12-12.4.127-py3-none-manylinux2014_x86_64.whl (883 kB)\n",
            "\u001b[2K   \u001b[90m━━━━━━━━━━━━━━━━━━━━━━━━━━━━━━━━━━━━━━━━\u001b[0m \u001b[32m883.7/883.7 kB\u001b[0m \u001b[31m55.8 MB/s\u001b[0m eta \u001b[36m0:00:00\u001b[0m\n",
            "\u001b[?25hDownloading nvidia_cudnn_cu12-9.1.0.70-py3-none-manylinux2014_x86_64.whl (664.8 MB)\n",
            "\u001b[2K   \u001b[90m━━━━━━━━━━━━━━━━━━━━━━━━━━━━━━━━━━━━━━━━\u001b[0m \u001b[32m664.8/664.8 MB\u001b[0m \u001b[31m2.1 MB/s\u001b[0m eta \u001b[36m0:00:00\u001b[0m\n",
            "\u001b[?25hDownloading nvidia_cufft_cu12-11.2.1.3-py3-none-manylinux2014_x86_64.whl (211.5 MB)\n",
            "\u001b[2K   \u001b[90m━━━━━━━━━━━━━━━━━━━━━━━━━━━━━━━━━━━━━━━━\u001b[0m \u001b[32m211.5/211.5 MB\u001b[0m \u001b[31m6.2 MB/s\u001b[0m eta \u001b[36m0:00:00\u001b[0m\n",
            "\u001b[?25hDownloading nvidia_curand_cu12-10.3.5.147-py3-none-manylinux2014_x86_64.whl (56.3 MB)\n",
            "\u001b[2K   \u001b[90m━━━━━━━━━━━━━━━━━━━━━━━━━━━━━━━━━━━━━━━━\u001b[0m \u001b[32m56.3/56.3 MB\u001b[0m \u001b[31m13.3 MB/s\u001b[0m eta \u001b[36m0:00:00\u001b[0m\n",
            "\u001b[?25hDownloading nvidia_cusolver_cu12-11.6.1.9-py3-none-manylinux2014_x86_64.whl (127.9 MB)\n",
            "\u001b[2K   \u001b[90m━━━━━━━━━━━━━━━━━━━━━━━━━━━━━━━━━━━━━━━━\u001b[0m \u001b[32m127.9/127.9 MB\u001b[0m \u001b[31m7.4 MB/s\u001b[0m eta \u001b[36m0:00:00\u001b[0m\n",
            "\u001b[?25hDownloading nvidia_cusparse_cu12-12.3.1.170-py3-none-manylinux2014_x86_64.whl (207.5 MB)\n",
            "\u001b[2K   \u001b[90m━━━━━━━━━━━━━━━━━━━━━━━━━━━━━━━━━━━━━━━━\u001b[0m \u001b[32m207.5/207.5 MB\u001b[0m \u001b[31m5.5 MB/s\u001b[0m eta \u001b[36m0:00:00\u001b[0m\n",
            "\u001b[?25hDownloading nvidia_nvjitlink_cu12-12.4.127-py3-none-manylinux2014_x86_64.whl (21.1 MB)\n",
            "\u001b[2K   \u001b[90m━━━━━━━━━━━━━━━━━━━━━━━━━━━━━━━━━━━━━━━━\u001b[0m \u001b[32m21.1/21.1 MB\u001b[0m \u001b[31m106.3 MB/s\u001b[0m eta \u001b[36m0:00:00\u001b[0m\n",
            "\u001b[?25hDownloading pytest_mock-3.14.1-py3-none-any.whl (9.9 kB)\n",
            "Downloading crc32c-2.7.1-cp311-cp311-manylinux_2_5_x86_64.manylinux1_x86_64.manylinux_2_17_x86_64.manylinux2014_x86_64.whl (53 kB)\n",
            "\u001b[2K   \u001b[90m━━━━━━━━━━━━━━━━━━━━━━━━━━━━━━━━━━━━━━━━\u001b[0m \u001b[32m53.7/53.7 kB\u001b[0m \u001b[31m5.6 MB/s\u001b[0m eta \u001b[36m0:00:00\u001b[0m\n",
            "\u001b[?25hBuilding wheels for collected packages: torch-harmonics\n",
            "  Building wheel for torch-harmonics (pyproject.toml) ... \u001b[?25l\u001b[?25hdone\n",
            "  Created wheel for torch-harmonics: filename=torch_harmonics-0.7.3-py3-none-any.whl size=87749 sha256=c2d6bd00914b1f6c7d744f368e2e0390922775901bb6b16542be03ac9bd01b51\n",
            "  Stored in directory: /root/.cache/pip/wheels/1e/32/30/3f507ec7dd7ff6a24abf08cf1ea4f3271f45ef792e9fabf807\n",
            "Successfully built torch-harmonics\n",
            "Installing collected packages: ruamel.yaml.clib, nvidia-nvjitlink-cu12, nvidia-curand-cu12, nvidia-cufft-cu12, nvidia-cuda-runtime-cu12, nvidia-cuda-nvrtc-cu12, nvidia-cuda-cupti-cu12, nvidia-cublas-cu12, numcodecs, donfig, crc32c, tensorly-torch, tensorly, ruamel-yaml, pytest-mock, nvidia-cusparse-cu12, nvidia-cudnn-cu12, zarr, nvidia-cusolver-cu12, configmypy, torch-harmonics, neuraloperator\n",
            "  Attempting uninstall: nvidia-nvjitlink-cu12\n",
            "    Found existing installation: nvidia-nvjitlink-cu12 12.5.82\n",
            "    Uninstalling nvidia-nvjitlink-cu12-12.5.82:\n",
            "      Successfully uninstalled nvidia-nvjitlink-cu12-12.5.82\n",
            "  Attempting uninstall: nvidia-curand-cu12\n",
            "    Found existing installation: nvidia-curand-cu12 10.3.6.82\n",
            "    Uninstalling nvidia-curand-cu12-10.3.6.82:\n",
            "      Successfully uninstalled nvidia-curand-cu12-10.3.6.82\n",
            "  Attempting uninstall: nvidia-cufft-cu12\n",
            "    Found existing installation: nvidia-cufft-cu12 11.2.3.61\n",
            "    Uninstalling nvidia-cufft-cu12-11.2.3.61:\n",
            "      Successfully uninstalled nvidia-cufft-cu12-11.2.3.61\n",
            "  Attempting uninstall: nvidia-cuda-runtime-cu12\n",
            "    Found existing installation: nvidia-cuda-runtime-cu12 12.5.82\n",
            "    Uninstalling nvidia-cuda-runtime-cu12-12.5.82:\n",
            "      Successfully uninstalled nvidia-cuda-runtime-cu12-12.5.82\n",
            "  Attempting uninstall: nvidia-cuda-nvrtc-cu12\n",
            "    Found existing installation: nvidia-cuda-nvrtc-cu12 12.5.82\n",
            "    Uninstalling nvidia-cuda-nvrtc-cu12-12.5.82:\n",
            "      Successfully uninstalled nvidia-cuda-nvrtc-cu12-12.5.82\n",
            "  Attempting uninstall: nvidia-cuda-cupti-cu12\n",
            "    Found existing installation: nvidia-cuda-cupti-cu12 12.5.82\n",
            "    Uninstalling nvidia-cuda-cupti-cu12-12.5.82:\n",
            "      Successfully uninstalled nvidia-cuda-cupti-cu12-12.5.82\n",
            "  Attempting uninstall: nvidia-cublas-cu12\n",
            "    Found existing installation: nvidia-cublas-cu12 12.5.3.2\n",
            "    Uninstalling nvidia-cublas-cu12-12.5.3.2:\n",
            "      Successfully uninstalled nvidia-cublas-cu12-12.5.3.2\n",
            "  Attempting uninstall: nvidia-cusparse-cu12\n",
            "    Found existing installation: nvidia-cusparse-cu12 12.5.1.3\n",
            "    Uninstalling nvidia-cusparse-cu12-12.5.1.3:\n",
            "      Successfully uninstalled nvidia-cusparse-cu12-12.5.1.3\n",
            "  Attempting uninstall: nvidia-cudnn-cu12\n",
            "    Found existing installation: nvidia-cudnn-cu12 9.3.0.75\n",
            "    Uninstalling nvidia-cudnn-cu12-9.3.0.75:\n",
            "      Successfully uninstalled nvidia-cudnn-cu12-9.3.0.75\n",
            "  Attempting uninstall: nvidia-cusolver-cu12\n",
            "    Found existing installation: nvidia-cusolver-cu12 11.6.3.83\n",
            "    Uninstalling nvidia-cusolver-cu12-11.6.3.83:\n",
            "      Successfully uninstalled nvidia-cusolver-cu12-11.6.3.83\n",
            "Successfully installed configmypy-0.2.0 crc32c-2.7.1 donfig-0.8.1.post1 neuraloperator-1.0.2 numcodecs-0.16.1 nvidia-cublas-cu12-12.4.5.8 nvidia-cuda-cupti-cu12-12.4.127 nvidia-cuda-nvrtc-cu12-12.4.127 nvidia-cuda-runtime-cu12-12.4.127 nvidia-cudnn-cu12-9.1.0.70 nvidia-cufft-cu12-11.2.1.3 nvidia-curand-cu12-10.3.5.147 nvidia-cusolver-cu12-11.6.1.9 nvidia-cusparse-cu12-12.3.1.170 nvidia-nvjitlink-cu12-12.4.127 pytest-mock-3.14.1 ruamel-yaml-0.18.14 ruamel.yaml.clib-0.2.12 tensorly-0.9.0 tensorly-torch-0.5.0 torch-harmonics-0.7.3 zarr-3.1.1\n",
            "Requirement already satisfied: tensorly in /usr/local/lib/python3.11/dist-packages (0.9.0)\n",
            "Requirement already satisfied: numpy in /usr/local/lib/python3.11/dist-packages (from tensorly) (2.0.2)\n",
            "Requirement already satisfied: scipy in /usr/local/lib/python3.11/dist-packages (from tensorly) (1.16.0)\n"
          ]
        }
      ],
      "source": [
        "!pip install neuraloperator\n",
        "!pip install tensorly"
      ]
    },
    {
      "cell_type": "code",
      "execution_count": 3,
      "id": "e0bb548e-6e98-4fac-935e-52a8115c4aac",
      "metadata": {
        "colab": {
          "base_uri": "https://localhost:8080/"
        },
        "id": "e0bb548e-6e98-4fac-935e-52a8115c4aac",
        "outputId": "f61cfd6b-932b-468d-c2ee-83cf8df3fe08"
      },
      "outputs": [
        {
          "output_type": "stream",
          "name": "stdout",
          "text": [
            "Collecting gpustat\n",
            "  Downloading gpustat-1.1.1.tar.gz (98 kB)\n",
            "\u001b[?25l     \u001b[90m━━━━━━━━━━━━━━━━━━━━━━━━━━━━━━━━━━━━━━━━\u001b[0m \u001b[32m0.0/98.1 kB\u001b[0m \u001b[31m?\u001b[0m eta \u001b[36m-:--:--\u001b[0m\r\u001b[2K     \u001b[90m━━━━━━━━━━━━━━━━━━━━━━━━━━━━━━━━━━━━━━━━\u001b[0m \u001b[32m98.1/98.1 kB\u001b[0m \u001b[31m9.4 MB/s\u001b[0m eta \u001b[36m0:00:00\u001b[0m\n",
            "\u001b[?25h  Installing build dependencies ... \u001b[?25l\u001b[?25hdone\n",
            "  Getting requirements to build wheel ... \u001b[?25l\u001b[?25hdone\n",
            "  Preparing metadata (pyproject.toml) ... \u001b[?25l\u001b[?25hdone\n",
            "Requirement already satisfied: nvidia-ml-py>=11.450.129 in /usr/local/lib/python3.11/dist-packages (from gpustat) (12.575.51)\n",
            "Requirement already satisfied: psutil>=5.6.0 in /usr/local/lib/python3.11/dist-packages (from gpustat) (5.9.5)\n",
            "Collecting blessed>=1.17.1 (from gpustat)\n",
            "  Downloading blessed-1.21.0-py2.py3-none-any.whl.metadata (13 kB)\n",
            "Requirement already satisfied: wcwidth>=0.1.4 in /usr/local/lib/python3.11/dist-packages (from blessed>=1.17.1->gpustat) (0.2.13)\n",
            "Downloading blessed-1.21.0-py2.py3-none-any.whl (84 kB)\n",
            "\u001b[2K   \u001b[90m━━━━━━━━━━━━━━━━━━━━━━━━━━━━━━━━━━━━━━━━\u001b[0m \u001b[32m84.7/84.7 kB\u001b[0m \u001b[31m8.7 MB/s\u001b[0m eta \u001b[36m0:00:00\u001b[0m\n",
            "\u001b[?25hBuilding wheels for collected packages: gpustat\n",
            "  Building wheel for gpustat (pyproject.toml) ... \u001b[?25l\u001b[?25hdone\n",
            "  Created wheel for gpustat: filename=gpustat-1.1.1-py3-none-any.whl size=26666 sha256=7d6c4f3ce4274239a0a0855bd132df31d360aad01ca8c5073ae781380ab74fe2\n",
            "  Stored in directory: /root/.cache/pip/wheels/c9/2b/d9/a0b77d6e8623ce6b5c73813af455a3ace394abfc2e8aef7ed6\n",
            "Successfully built gpustat\n",
            "Installing collected packages: blessed, gpustat\n",
            "Successfully installed blessed-1.21.0 gpustat-1.1.1\n",
            "Requirement already satisfied: gdown in /usr/local/lib/python3.11/dist-packages (5.2.0)\n",
            "Requirement already satisfied: beautifulsoup4 in /usr/local/lib/python3.11/dist-packages (from gdown) (4.13.4)\n",
            "Requirement already satisfied: filelock in /usr/local/lib/python3.11/dist-packages (from gdown) (3.18.0)\n",
            "Requirement already satisfied: requests[socks] in /usr/local/lib/python3.11/dist-packages (from gdown) (2.32.3)\n",
            "Requirement already satisfied: tqdm in /usr/local/lib/python3.11/dist-packages (from gdown) (4.67.1)\n",
            "Requirement already satisfied: soupsieve>1.2 in /usr/local/lib/python3.11/dist-packages (from beautifulsoup4->gdown) (2.7)\n",
            "Requirement already satisfied: typing-extensions>=4.0.0 in /usr/local/lib/python3.11/dist-packages (from beautifulsoup4->gdown) (4.14.1)\n",
            "Requirement already satisfied: charset-normalizer<4,>=2 in /usr/local/lib/python3.11/dist-packages (from requests[socks]->gdown) (3.4.2)\n",
            "Requirement already satisfied: idna<4,>=2.5 in /usr/local/lib/python3.11/dist-packages (from requests[socks]->gdown) (3.10)\n",
            "Requirement already satisfied: urllib3<3,>=1.21.1 in /usr/local/lib/python3.11/dist-packages (from requests[socks]->gdown) (2.5.0)\n",
            "Requirement already satisfied: certifi>=2017.4.17 in /usr/local/lib/python3.11/dist-packages (from requests[socks]->gdown) (2025.7.14)\n",
            "Requirement already satisfied: PySocks!=1.5.7,>=1.5.6 in /usr/local/lib/python3.11/dist-packages (from requests[socks]->gdown) (1.7.1)\n",
            "Requirement already satisfied: opt-einsum in /usr/local/lib/python3.11/dist-packages (3.4.0)\n",
            "Requirement already satisfied: h5py in /usr/local/lib/python3.11/dist-packages (3.14.0)\n",
            "Requirement already satisfied: wandb in /usr/local/lib/python3.11/dist-packages (0.21.0)\n",
            "Requirement already satisfied: ruamel.yaml in /usr/local/lib/python3.11/dist-packages (0.18.14)\n",
            "Requirement already satisfied: zarr in /usr/local/lib/python3.11/dist-packages (3.1.1)\n",
            "Requirement already satisfied: numpy>=1.19.3 in /usr/local/lib/python3.11/dist-packages (from h5py) (2.0.2)\n",
            "Requirement already satisfied: click!=8.0.0,>=7.1 in /usr/local/lib/python3.11/dist-packages (from wandb) (8.2.1)\n",
            "Requirement already satisfied: gitpython!=3.1.29,>=1.0.0 in /usr/local/lib/python3.11/dist-packages (from wandb) (3.1.45)\n",
            "Requirement already satisfied: packaging in /usr/local/lib/python3.11/dist-packages (from wandb) (25.0)\n",
            "Requirement already satisfied: platformdirs in /usr/local/lib/python3.11/dist-packages (from wandb) (4.3.8)\n",
            "Requirement already satisfied: protobuf!=4.21.0,!=5.28.0,<7,>=3.19.0 in /usr/local/lib/python3.11/dist-packages (from wandb) (5.29.5)\n",
            "Requirement already satisfied: pydantic<3 in /usr/local/lib/python3.11/dist-packages (from wandb) (2.11.7)\n",
            "Requirement already satisfied: pyyaml in /usr/local/lib/python3.11/dist-packages (from wandb) (6.0.2)\n",
            "Requirement already satisfied: requests<3,>=2.0.0 in /usr/local/lib/python3.11/dist-packages (from wandb) (2.32.3)\n",
            "Requirement already satisfied: sentry-sdk>=2.0.0 in /usr/local/lib/python3.11/dist-packages (from wandb) (2.33.2)\n",
            "Requirement already satisfied: typing-extensions<5,>=4.8 in /usr/local/lib/python3.11/dist-packages (from wandb) (4.14.1)\n",
            "Requirement already satisfied: ruamel.yaml.clib>=0.2.7 in /usr/local/lib/python3.11/dist-packages (from ruamel.yaml) (0.2.12)\n",
            "Requirement already satisfied: donfig>=0.8 in /usr/local/lib/python3.11/dist-packages (from zarr) (0.8.1.post1)\n",
            "Requirement already satisfied: numcodecs>=0.14 in /usr/local/lib/python3.11/dist-packages (from numcodecs[crc32c]>=0.14->zarr) (0.16.1)\n",
            "Requirement already satisfied: gitdb<5,>=4.0.1 in /usr/local/lib/python3.11/dist-packages (from gitpython!=3.1.29,>=1.0.0->wandb) (4.0.12)\n",
            "Requirement already satisfied: crc32c>=2.7 in /usr/local/lib/python3.11/dist-packages (from numcodecs[crc32c]>=0.14->zarr) (2.7.1)\n",
            "Requirement already satisfied: annotated-types>=0.6.0 in /usr/local/lib/python3.11/dist-packages (from pydantic<3->wandb) (0.7.0)\n",
            "Requirement already satisfied: pydantic-core==2.33.2 in /usr/local/lib/python3.11/dist-packages (from pydantic<3->wandb) (2.33.2)\n",
            "Requirement already satisfied: typing-inspection>=0.4.0 in /usr/local/lib/python3.11/dist-packages (from pydantic<3->wandb) (0.4.1)\n",
            "Requirement already satisfied: charset-normalizer<4,>=2 in /usr/local/lib/python3.11/dist-packages (from requests<3,>=2.0.0->wandb) (3.4.2)\n",
            "Requirement already satisfied: idna<4,>=2.5 in /usr/local/lib/python3.11/dist-packages (from requests<3,>=2.0.0->wandb) (3.10)\n",
            "Requirement already satisfied: urllib3<3,>=1.21.1 in /usr/local/lib/python3.11/dist-packages (from requests<3,>=2.0.0->wandb) (2.5.0)\n",
            "Requirement already satisfied: certifi>=2017.4.17 in /usr/local/lib/python3.11/dist-packages (from requests<3,>=2.0.0->wandb) (2025.7.14)\n",
            "Requirement already satisfied: smmap<6,>=3.0.1 in /usr/local/lib/python3.11/dist-packages (from gitdb<5,>=4.0.1->gitpython!=3.1.29,>=1.0.0->wandb) (5.0.2)\n"
          ]
        }
      ],
      "source": [
        "!pip install gpustat\n",
        "!pip install gdown\n",
        "!pip install opt-einsum\n",
        "!pip install h5py wandb ruamel.yaml zarr"
      ]
    },
    {
      "cell_type": "markdown",
      "id": "f4ed3b9d-fffd-4d5d-852c-7dc95dad086f",
      "metadata": {
        "id": "f4ed3b9d-fffd-4d5d-852c-7dc95dad086f"
      },
      "source": [
        "# Prepare data"
      ]
    },
    {
      "cell_type": "code",
      "execution_count": 4,
      "id": "3a2484ab-0f02-45c9-acce-cb0bbe803dbb",
      "metadata": {
        "colab": {
          "base_uri": "https://localhost:8080/"
        },
        "id": "3a2484ab-0f02-45c9-acce-cb0bbe803dbb",
        "outputId": "475ab8dd-61ef-4299-c1d2-0c8a500c7587"
      },
      "outputs": [
        {
          "output_type": "stream",
          "name": "stdout",
          "text": [
            "Downloading darcy_32.tgz...\n",
            "darcy_32.tgz downloaded.\n",
            "Extracting darcy_32.tgz to darcy...\n",
            "darcy_32.tgz extracted.\n",
            "darcy_32.tgz removed.\n",
            "\n",
            "Downloading darcy_64.tgz...\n",
            "darcy_64.tgz downloaded.\n",
            "Extracting darcy_64.tgz to darcy...\n",
            "darcy_64.tgz extracted.\n",
            "darcy_64.tgz removed.\n",
            "\n",
            "All files downloaded and extracted to: darcy\n"
          ]
        }
      ],
      "source": [
        "import requests\n",
        "import tarfile\n",
        "import os\n",
        "\n",
        "# Target directory for all extracted content\n",
        "output_dir = \"darcy\"\n",
        "os.makedirs(output_dir, exist_ok=True)\n",
        "\n",
        "# List of files to download\n",
        "files = [\n",
        "    {\n",
        "        \"url\": \"https://zenodo.org/records/12784353/files/darcy_32.tgz?download=1\",\n",
        "        \"filename\": \"darcy_32.tgz\"\n",
        "    },\n",
        "    {\n",
        "        \"url\": \"https://zenodo.org/records/12784353/files/darcy_64.tgz?download=1\",\n",
        "        \"filename\": \"darcy_64.tgz\"\n",
        "    }\n",
        "]\n",
        "\n",
        "for file in files:\n",
        "    url = file[\"url\"]\n",
        "    filename = file[\"filename\"]\n",
        "\n",
        "    # Download file\n",
        "    print(f\"Downloading {filename}...\")\n",
        "    response = requests.get(url, stream=True)\n",
        "    with open(filename, \"wb\") as f:\n",
        "        for chunk in response.iter_content(chunk_size=8192):\n",
        "            if chunk:\n",
        "                f.write(chunk)\n",
        "    print(f\"{filename} downloaded.\")\n",
        "\n",
        "    # Extract into the shared directory\n",
        "    print(f\"Extracting {filename} to {output_dir}...\")\n",
        "    with tarfile.open(filename, \"r:gz\") as tar:\n",
        "        tar.extractall(path=output_dir)\n",
        "    print(f\"{filename} extracted.\")\n",
        "\n",
        "    # Clean up\n",
        "    os.remove(filename)\n",
        "    print(f\"{filename} removed.\\n\")\n",
        "\n",
        "print(\"All files downloaded and extracted to:\", output_dir)\n"
      ]
    },
    {
      "cell_type": "markdown",
      "id": "59194c45-83c9-4a77-a1b0-185eca26afd5",
      "metadata": {
        "id": "59194c45-83c9-4a77-a1b0-185eca26afd5"
      },
      "source": [
        "# Check the dependencies"
      ]
    },
    {
      "cell_type": "code",
      "execution_count": 5,
      "id": "af7a5c4c-b3a5-4f32-aee9-55290566ff56",
      "metadata": {
        "colab": {
          "base_uri": "https://localhost:8080/"
        },
        "id": "af7a5c4c-b3a5-4f32-aee9-55290566ff56",
        "outputId": "f0c6e398-469a-4336-a33f-ba657ea3845e"
      },
      "outputs": [
        {
          "output_type": "stream",
          "name": "stdout",
          "text": [
            "tl.__version__='0.9.0'\n",
            "no.__version__='1.0.2'\n"
          ]
        }
      ],
      "source": [
        "import tensorly as tl\n",
        "import neuralop as no\n",
        "\n",
        "print(f'{tl.__version__=}')\n",
        "print(f'{no.__version__=}')"
      ]
    },
    {
      "cell_type": "markdown",
      "id": "a36bb3e2-c158-497c-babe-5eead700cbf1",
      "metadata": {
        "tags": [],
        "id": "a36bb3e2-c158-497c-babe-5eead700cbf1"
      },
      "source": [
        "# FFT and Spectral Convolution\n"
      ]
    },
    {
      "cell_type": "code",
      "execution_count": 6,
      "id": "4efa0d7f-e39c-496e-891d-6b34c62fbd9d",
      "metadata": {
        "id": "4efa0d7f-e39c-496e-891d-6b34c62fbd9d"
      },
      "outputs": [],
      "source": [
        "from neuralop.layers.spectral_convolution import SpectralConv\n",
        "from neuralop.models import FNO2d\n",
        "import torch"
      ]
    },
    {
      "cell_type": "code",
      "execution_count": 7,
      "id": "2c8c3eb7-82e1-4df7-b6e6-3f34331637c4",
      "metadata": {
        "id": "2c8c3eb7-82e1-4df7-b6e6-3f34331637c4"
      },
      "outputs": [],
      "source": [
        "fourier_conv = SpectralConv(in_channels=3, out_channels=10, n_modes=(12, 12),\n",
        "                                      factorization=None, implementation='reconstructed')"
      ]
    },
    {
      "cell_type": "code",
      "execution_count": 8,
      "id": "4eaf645a-b7f5-4dcc-b8de-fb388ccc9b26",
      "metadata": {
        "id": "4eaf645a-b7f5-4dcc-b8de-fb388ccc9b26"
      },
      "outputs": [],
      "source": [
        "in_data = torch.randn((2, 3, 32, 32))"
      ]
    },
    {
      "cell_type": "code",
      "execution_count": 9,
      "id": "016b33e0-88a6-4215-99e0-19da4f8fd5f5",
      "metadata": {
        "id": "016b33e0-88a6-4215-99e0-19da4f8fd5f5"
      },
      "outputs": [],
      "source": [
        "out = fourier_conv(in_data)"
      ]
    },
    {
      "cell_type": "code",
      "execution_count": 10,
      "id": "36d0f546-9fa9-4936-a6b6-19d7bde03639",
      "metadata": {
        "colab": {
          "base_uri": "https://localhost:8080/"
        },
        "id": "36d0f546-9fa9-4936-a6b6-19d7bde03639",
        "outputId": "90f3b22a-c4db-4000-a264-9bd90144cef6"
      },
      "outputs": [
        {
          "output_type": "execute_result",
          "data": {
            "text/plain": [
              "torch.Size([2, 10, 32, 32])"
            ]
          },
          "metadata": {},
          "execution_count": 10
        }
      ],
      "source": [
        "out.shape"
      ]
    },
    {
      "cell_type": "code",
      "execution_count": 11,
      "id": "4936746b-5abb-4a8b-9e74-238502c65930",
      "metadata": {
        "colab": {
          "base_uri": "https://localhost:8080/"
        },
        "id": "4936746b-5abb-4a8b-9e74-238502c65930",
        "outputId": "cd388638-b7f3-46de-ded0-a6c61f2ae823"
      },
      "outputs": [
        {
          "output_type": "execute_result",
          "data": {
            "text/plain": [
              "SpectralConv(\n",
              "  (weight): DenseTensor(shape=torch.Size([3, 10, 12, 7]), rank=None)\n",
              ")"
            ]
          },
          "metadata": {},
          "execution_count": 11
        }
      ],
      "source": [
        "fourier_conv"
      ]
    },
    {
      "cell_type": "markdown",
      "id": "a616d68d-677a-4e6f-abd5-9e631ebf7fb6",
      "metadata": {
        "id": "a616d68d-677a-4e6f-abd5-9e631ebf7fb6"
      },
      "source": [
        "The way the spectral convolution works is that it multiplies (complex) coefficients with (complex) weights, learned end-to-end."
      ]
    },
    {
      "cell_type": "markdown",
      "id": "0c8d9860-d43d-47f3-a6aa-c7ed4522684e",
      "metadata": {
        "tags": [],
        "id": "0c8d9860-d43d-47f3-a6aa-c7ed4522684e"
      },
      "source": [
        "# Tensorized Spectral Convolutions\n",
        "\n",
        "It is possible to express the weights of one or more layers as in factorized form, as a low-rank decomposition of the full weights.\n",
        "\n",
        "`neuralop` comes with support for tensorization out of the box, you can simply specify, e.g., to use a Tucker factorization, `factorization='tucker'`."
      ]
    },
    {
      "cell_type": "code",
      "execution_count": 12,
      "id": "b3f919de-97c2-4f0b-bb40-8e47cd2c1e0e",
      "metadata": {
        "id": "b3f919de-97c2-4f0b-bb40-8e47cd2c1e0e"
      },
      "outputs": [],
      "source": [
        "fourier_conv = SpectralConv(in_channels=3, out_channels=10, n_modes=(12, 12),\n",
        "                                      factorization='tucker', implementation='reconstructed')"
      ]
    },
    {
      "cell_type": "code",
      "execution_count": 13,
      "id": "91a7aa04-9cc3-4f8c-b34f-54fbc625b718",
      "metadata": {
        "colab": {
          "base_uri": "https://localhost:8080/"
        },
        "id": "91a7aa04-9cc3-4f8c-b34f-54fbc625b718",
        "outputId": "4a78cf51-44ba-409b-d068-45475ce68c48"
      },
      "outputs": [
        {
          "output_type": "execute_result",
          "data": {
            "text/plain": [
              "SpectralConv(\n",
              "  (weight): TuckerTensor(shape=(3, 10, 12, 7), rank=(2, 8, 10, 6))\n",
              ")"
            ]
          },
          "metadata": {},
          "execution_count": 13
        }
      ],
      "source": [
        "fourier_conv"
      ]
    },
    {
      "cell_type": "markdown",
      "id": "f8df876d-72e1-40cd-9a86-330a57dc0e8d",
      "metadata": {
        "id": "f8df876d-72e1-40cd-9a86-330a57dc0e8d"
      },
      "source": [
        "## Efficient forward pass\n",
        "\n",
        "When factorizing the weights, have two main options during the forward pass:\n",
        "1. reconstruct the full weights and use that for the forward pass\n",
        "2. contract the input directly with the factorized weights to predict the output\n",
        "\n",
        "When the factorized weights are small, the second option can lead to large speedups or memory reduction, particularly when coupled with checkpointing.\n",
        "\n",
        "In `neuralop`, you can use those simply by specifying `implementation='reconstructed'` or `implementation='factorized'`:"
      ]
    },
    {
      "cell_type": "code",
      "execution_count": 14,
      "id": "a0667a6b-1efe-47e0-8908-29c5fb0cf45a",
      "metadata": {
        "id": "a0667a6b-1efe-47e0-8908-29c5fb0cf45a"
      },
      "outputs": [],
      "source": [
        "fourier_conv = SpectralConv(in_channels=3, out_channels=10, n_modes=(12, 12),\n",
        "                                      factorization='tucker', implementation='factorized')"
      ]
    },
    {
      "cell_type": "markdown",
      "id": "ec3ab24a-09fe-4864-b2ed-e96b54792e9f",
      "metadata": {
        "id": "ec3ab24a-09fe-4864-b2ed-e96b54792e9f"
      },
      "source": [
        "# Full Tensorized Fourier Neural Operator\n",
        "\n",
        "The full architecture is composed of\n",
        "\n",
        "i) a lifting layer taking the number of input channels and lifting that to the desired number of hidden channels\n",
        "ii) a number of spectral convolutions, as shown above\n",
        "iii) a projection layer projecting back from the number of hidden channels to the desired number of output channels\n"
      ]
    },
    {
      "cell_type": "code",
      "execution_count": 15,
      "id": "d51aec17-2cf4-40c4-9452-84a4b5259db6",
      "metadata": {
        "id": "d51aec17-2cf4-40c4-9452-84a4b5259db6"
      },
      "outputs": [],
      "source": [
        "fno = FNO2d(n_modes_height=16, n_modes_width=16, hidden_channels=16,\n",
        "              factorization=None, skip='linear')"
      ]
    },
    {
      "cell_type": "code",
      "execution_count": 16,
      "id": "c87127e5-d24c-4096-be3a-8872a853a132",
      "metadata": {
        "colab": {
          "base_uri": "https://localhost:8080/"
        },
        "id": "c87127e5-d24c-4096-be3a-8872a853a132",
        "outputId": "5a81d478-6788-4ffb-d2a0-372f24d58091"
      },
      "outputs": [
        {
          "output_type": "execute_result",
          "data": {
            "text/plain": [
              "FNO2d(\n",
              "  (positional_embedding): GridEmbeddingND()\n",
              "  (fno_blocks): FNOBlocks(\n",
              "    (convs): ModuleList(\n",
              "      (0-3): 4 x SpectralConv(\n",
              "        (weight): DenseTensor(shape=torch.Size([16, 16, 16, 9]), rank=None)\n",
              "      )\n",
              "    )\n",
              "    (fno_skips): ModuleList(\n",
              "      (0-3): 4 x Flattened1dConv(\n",
              "        (conv): Conv1d(16, 16, kernel_size=(1,), stride=(1,), bias=False)\n",
              "      )\n",
              "    )\n",
              "    (channel_mlp): ModuleList(\n",
              "      (0-3): 4 x ChannelMLP(\n",
              "        (fcs): ModuleList(\n",
              "          (0): Conv1d(16, 8, kernel_size=(1,), stride=(1,))\n",
              "          (1): Conv1d(8, 16, kernel_size=(1,), stride=(1,))\n",
              "        )\n",
              "      )\n",
              "    )\n",
              "    (channel_mlp_skips): ModuleList(\n",
              "      (0-3): 4 x SoftGating()\n",
              "    )\n",
              "  )\n",
              "  (lifting): ChannelMLP(\n",
              "    (fcs): ModuleList(\n",
              "      (0): Conv1d(5, 32, kernel_size=(1,), stride=(1,))\n",
              "      (1): Conv1d(32, 16, kernel_size=(1,), stride=(1,))\n",
              "    )\n",
              "  )\n",
              "  (projection): ChannelMLP(\n",
              "    (fcs): ModuleList(\n",
              "      (0): Conv1d(16, 32, kernel_size=(1,), stride=(1,))\n",
              "      (1): Conv1d(32, 1, kernel_size=(1,), stride=(1,))\n",
              "    )\n",
              "  )\n",
              ")"
            ]
          },
          "metadata": {},
          "execution_count": 16
        }
      ],
      "source": [
        "fno"
      ]
    },
    {
      "cell_type": "markdown",
      "id": "0e70efec-bf3c-48ac-b53a-59800055f1b9",
      "metadata": {
        "id": "0e70efec-bf3c-48ac-b53a-59800055f1b9"
      },
      "source": [
        "## Lifting layer\n",
        "\n",
        "Increasing the number of channels"
      ]
    },
    {
      "cell_type": "code",
      "execution_count": 17,
      "id": "1deead74-bd3d-4aa9-8d2c-cfd9ab0763d7",
      "metadata": {
        "colab": {
          "base_uri": "https://localhost:8080/"
        },
        "id": "1deead74-bd3d-4aa9-8d2c-cfd9ab0763d7",
        "outputId": "05e8c5db-f10b-4cd9-d6c1-3da5aad273b7"
      },
      "outputs": [
        {
          "output_type": "execute_result",
          "data": {
            "text/plain": [
              "ChannelMLP(\n",
              "  (fcs): ModuleList(\n",
              "    (0): Conv1d(5, 32, kernel_size=(1,), stride=(1,))\n",
              "    (1): Conv1d(32, 16, kernel_size=(1,), stride=(1,))\n",
              "  )\n",
              ")"
            ]
          },
          "metadata": {},
          "execution_count": 17
        }
      ],
      "source": [
        "fno.lifting"
      ]
    },
    {
      "cell_type": "markdown",
      "id": "08844bac-9335-4ac4-afc8-f1d67c3e31bb",
      "metadata": {
        "id": "08844bac-9335-4ac4-afc8-f1d67c3e31bb"
      },
      "source": [
        "## Spectral convolutions"
      ]
    },
    {
      "cell_type": "code",
      "execution_count": 18,
      "id": "f2bc28dc-1226-4ed3-b757-3c42357d276a",
      "metadata": {
        "colab": {
          "base_uri": "https://localhost:8080/"
        },
        "id": "f2bc28dc-1226-4ed3-b757-3c42357d276a",
        "outputId": "2779bb3c-a580-49fa-ff31-ca1ef6dc2607"
      },
      "outputs": [
        {
          "output_type": "execute_result",
          "data": {
            "text/plain": [
              "ModuleList(\n",
              "  (0-3): 4 x SpectralConv(\n",
              "    (weight): DenseTensor(shape=torch.Size([16, 16, 16, 9]), rank=None)\n",
              "  )\n",
              ")"
            ]
          },
          "metadata": {},
          "execution_count": 18
        }
      ],
      "source": [
        "fno.fno_blocks.convs"
      ]
    },
    {
      "cell_type": "markdown",
      "id": "1c7d9882-13db-447d-affd-07ef17256e1c",
      "metadata": {
        "id": "1c7d9882-13db-447d-affd-07ef17256e1c"
      },
      "source": [
        "## Skip connections: recovering non-periodicity\n",
        "\n",
        "Recall the FNO architecture has skip connections: the FFT transformation will loose non-periodic information that has to be reinjected through skip connections. These skip connections also help with learning.\n",
        "\n",
        "![FNO_layer](./images/fourier_layer.png)\n",
        "\n",
        "Here, linear layer (represented by weight W in the image). We can also use Identity skip (`skip='identity'`) or soft-gated connections (`skip='soft-gating'`)"
      ]
    },
    {
      "cell_type": "code",
      "execution_count": 19,
      "id": "f063e3bf-34e5-4d7f-83f9-b3522aa6430b",
      "metadata": {
        "colab": {
          "base_uri": "https://localhost:8080/"
        },
        "id": "f063e3bf-34e5-4d7f-83f9-b3522aa6430b",
        "outputId": "9bd6f03c-dc51-43e0-f6df-c3d6d63c0e4e"
      },
      "outputs": [
        {
          "output_type": "execute_result",
          "data": {
            "text/plain": [
              "ModuleList(\n",
              "  (0-3): 4 x Flattened1dConv(\n",
              "    (conv): Conv1d(16, 16, kernel_size=(1,), stride=(1,), bias=False)\n",
              "  )\n",
              ")"
            ]
          },
          "metadata": {},
          "execution_count": 19
        }
      ],
      "source": [
        "fno.fno_blocks.fno_skips"
      ]
    },
    {
      "cell_type": "markdown",
      "id": "070e930e-38b6-4d3c-b62a-3ca700294c99",
      "metadata": {
        "id": "070e930e-38b6-4d3c-b62a-3ca700294c99"
      },
      "source": [
        "## Projection: going back to the target number of channels\n",
        "\n",
        "Finally, the projection layer takes the hidden dimension to projection_channels and to the actual number of output channels (here, 1)"
      ]
    },
    {
      "cell_type": "code",
      "execution_count": 20,
      "id": "88344f47-a7e8-458e-9fbb-775804fbbaad",
      "metadata": {
        "colab": {
          "base_uri": "https://localhost:8080/"
        },
        "id": "88344f47-a7e8-458e-9fbb-775804fbbaad",
        "outputId": "84587fff-c350-43dc-be74-b104d5b47673"
      },
      "outputs": [
        {
          "output_type": "execute_result",
          "data": {
            "text/plain": [
              "ChannelMLP(\n",
              "  (fcs): ModuleList(\n",
              "    (0): Conv1d(16, 32, kernel_size=(1,), stride=(1,))\n",
              "    (1): Conv1d(32, 1, kernel_size=(1,), stride=(1,))\n",
              "  )\n",
              ")"
            ]
          },
          "metadata": {},
          "execution_count": 20
        }
      ],
      "source": [
        "fno.projection"
      ]
    },
    {
      "cell_type": "code",
      "execution_count": 21,
      "id": "4df7dcda-a364-4255-9339-a9a09c2a5e34",
      "metadata": {
        "id": "4df7dcda-a364-4255-9339-a9a09c2a5e34"
      },
      "outputs": [],
      "source": [
        "from pathlib import Path\n",
        "from neuralop.data.datasets.darcy import load_darcy_pt"
      ]
    },
    {
      "cell_type": "markdown",
      "id": "ff12d431-bde9-4eba-906b-d0faea8c49fb",
      "metadata": {
        "id": "ff12d431-bde9-4eba-906b-d0faea8c49fb"
      },
      "source": [
        "# Load the data"
      ]
    },
    {
      "cell_type": "code",
      "execution_count": 22,
      "id": "aa9c49f5-878b-4cac-9a35-b9dc53085d11",
      "metadata": {
        "colab": {
          "base_uri": "https://localhost:8080/"
        },
        "id": "aa9c49f5-878b-4cac-9a35-b9dc53085d11",
        "outputId": "6b446267-db39-43bb-dfd6-ce29ff5a3cb2"
      },
      "outputs": [
        {
          "output_type": "stream",
          "name": "stdout",
          "text": [
            "darcy_test_32.pt  darcy_test_64.pt  darcy_train_32.pt  darcy_train_64.pt\n"
          ]
        }
      ],
      "source": [
        "!ls darcy/\n",
        "data_path=\"darcy/\""
      ]
    },
    {
      "cell_type": "code",
      "source": [
        "train_loader, test_loaders, output_encoder = load_darcy_pt(data_root=data_path, n_train=100, n_tests=[10],\n",
        "              batch_size=3, test_batch_sizes=[3],\n",
        "              test_resolutions=[32], train_resolution=32)"
      ],
      "metadata": {
        "colab": {
          "base_uri": "https://localhost:8080/"
        },
        "id": "eBQ5N2KHCFVh",
        "outputId": "011ec638-a641-42ac-edab-7736ec99d183"
      },
      "id": "eBQ5N2KHCFVh",
      "execution_count": 23,
      "outputs": [
        {
          "output_type": "stream",
          "name": "stdout",
          "text": [
            "Loading test db for resolution 32 with 10 samples \n"
          ]
        }
      ]
    },
    {
      "cell_type": "markdown",
      "id": "21000189-ecac-42e2-b008-06eefa7b1710",
      "metadata": {
        "id": "21000189-ecac-42e2-b008-06eefa7b1710"
      },
      "source": [
        "# Visualizing the data  "
      ]
    },
    {
      "cell_type": "markdown",
      "id": "1cf47f09-1fb3-4667-9b04-a98b3ee8d08d",
      "metadata": {
        "id": "1cf47f09-1fb3-4667-9b04-a98b3ee8d08d"
      },
      "source": [
        "The data is stored in a dictionary"
      ]
    },
    {
      "cell_type": "code",
      "execution_count": 24,
      "id": "b6a9aed5-6532-42ba-8131-0307460c960d",
      "metadata": {
        "id": "b6a9aed5-6532-42ba-8131-0307460c960d"
      },
      "outputs": [],
      "source": [
        "train_dataset = train_loader.dataset\n",
        "\n",
        "data = train_dataset[0]\n",
        "x = data['x']\n",
        "y = data['y']"
      ]
    },
    {
      "cell_type": "code",
      "execution_count": 25,
      "id": "9f475172-62b0-4ce3-8dce-a7d0d9dca9fb",
      "metadata": {
        "colab": {
          "base_uri": "https://localhost:8080/"
        },
        "id": "9f475172-62b0-4ce3-8dce-a7d0d9dca9fb",
        "outputId": "097945a8-795d-4e1d-96ec-5ab9a6a563eb"
      },
      "outputs": [
        {
          "output_type": "execute_result",
          "data": {
            "text/plain": [
              "torch.Size([1, 32, 32])"
            ]
          },
          "metadata": {},
          "execution_count": 25
        }
      ],
      "source": [
        "x.shape"
      ]
    },
    {
      "cell_type": "markdown",
      "id": "7d7947ad-f98c-414b-8a12-64270988ad1f",
      "metadata": {
        "id": "7d7947ad-f98c-414b-8a12-64270988ad1f"
      },
      "source": [
        "`x` is of shape (3, height, width).\n",
        "\n",
        "This is because, in addition to the binary input, we appended a positional encoding, so the model knows the location of each pixel.\n",
        "\n",
        "Let's check the actual data:"
      ]
    },
    {
      "cell_type": "code",
      "execution_count": 26,
      "id": "077ebd7d-883b-4300-b13d-ed88813a3be1",
      "metadata": {
        "id": "077ebd7d-883b-4300-b13d-ed88813a3be1"
      },
      "outputs": [],
      "source": [
        "%matplotlib inline\n",
        "import matplotlib.pyplot as plt"
      ]
    },
    {
      "cell_type": "code",
      "execution_count": 27,
      "id": "814a044d-a52f-4cf2-aa1b-859370012af5",
      "metadata": {
        "colab": {
          "base_uri": "https://localhost:8080/",
          "height": 400
        },
        "id": "814a044d-a52f-4cf2-aa1b-859370012af5",
        "outputId": "5f3d4765-733f-4543-d4b9-cb5be3a80f0b"
      },
      "outputs": [
        {
          "output_type": "display_data",
          "data": {
            "text/plain": [
              "<Figure size 700x350 with 2 Axes>"
            ],
            "image/png": "[encoded data removed]"
          },
          "metadata": {}
        }
      ],
      "source": [
        "# Which sample to view\n",
        "index = 10\n",
        "\n",
        "data = train_dataset[index]\n",
        "x = data['x']\n",
        "y = data['y']\n",
        "\n",
        "fig = plt.figure(figsize=(7, 3.5))  # Adjust height to half\n",
        "ax = fig.add_subplot(1, 2, 1)\n",
        "ax.imshow(x[0], cmap='gray')\n",
        "ax.set_title('input x')\n",
        "\n",
        "ax = fig.add_subplot(1, 2, 2)\n",
        "ax.imshow(y.squeeze())\n",
        "ax.set_title('input y')\n",
        "\n",
        "fig.suptitle('Visualizing one input sample (First Row Only)', y=1.05)\n",
        "plt.tight_layout()\n",
        "plt.show()\n"
      ]
    },
    {
      "cell_type": "code",
      "execution_count": 28,
      "id": "012a357f-8533-482c-823d-a4587c49e726",
      "metadata": {
        "id": "012a357f-8533-482c-823d-a4587c49e726"
      },
      "outputs": [],
      "source": [
        "import torch\n",
        "import wandb\n",
        "import sys\n",
        "from neuralop import get_model\n",
        "from neuralop import Trainer\n",
        "from neuralop.training import setup\n",
        "from neuralop import LpLoss, H1Loss"
      ]
    },
    {
      "cell_type": "markdown",
      "id": "e95d820d-9578-4ad7-80b4-05a5771f1642",
      "metadata": {
        "id": "e95d820d-9578-4ad7-80b4-05a5771f1642"
      },
      "source": [
        "## Setup\n",
        "\n",
        "Here we just setup pytorch and print the configuration"
      ]
    },
    {
      "cell_type": "markdown",
      "id": "1339c794-3e1c-469b-b0a0-cf968fc1dfa1",
      "metadata": {
        "id": "1339c794-3e1c-469b-b0a0-cf968fc1dfa1"
      },
      "source": [
        "# Loading the data\n",
        "\n",
        "We train in one resolution and test in several resolutions to show the zero-shot super-resolution capabilities of neural-operators."
      ]
    },
    {
      "cell_type": "code",
      "execution_count": 29,
      "id": "3515a85a-40fc-4223-9cdb-8768de37d6e2",
      "metadata": {
        "colab": {
          "base_uri": "https://localhost:8080/"
        },
        "id": "3515a85a-40fc-4223-9cdb-8768de37d6e2",
        "outputId": "832c9d8f-90a8-4107-a361-475da44a868b"
      },
      "outputs": [
        {
          "output_type": "stream",
          "name": "stdout",
          "text": [
            "Loading test db for resolution 32 with 100 samples \n",
            "Loading test db for resolution 64 with 100 samples \n"
          ]
        }
      ],
      "source": [
        "# Loading the Darcy flow training set in 32x32 resolution, test set in 32x32 and 64x64 resolutions\n",
        "train_loader, test_loaders, output_encoder = load_darcy_pt(\n",
        "    data_root=\"darcy/\",\n",
        "    train_resolution=32,\n",
        "    n_train=1000,\n",
        "    batch_size=32,\n",
        "    test_resolutions=[32, 64],\n",
        "    n_tests=[100, 100],\n",
        "    test_batch_sizes=[32, 32],\n",
        ")\n"
      ]
    },
    {
      "cell_type": "markdown",
      "id": "8109298a-aca3-45b7-a8de-c5cf4e1c210b",
      "metadata": {
        "id": "8109298a-aca3-45b7-a8de-c5cf4e1c210b"
      },
      "source": [
        "# Creating the model and putting it on the GPU"
      ]
    },
    {
      "cell_type": "code",
      "execution_count": 30,
      "id": "db295d23-ab86-4f37-83cc-7af0a8e485ea",
      "metadata": {
        "id": "db295d23-ab86-4f37-83cc-7af0a8e485ea"
      },
      "outputs": [],
      "source": [
        "model = FNO2d(in_channels=1, out_channels=1, n_modes_height=12, n_modes_width=12, hidden_channels=32)\n",
        "\n",
        "device = torch.device('cuda' if torch.cuda.is_available() else 'cpu')\n",
        "model = model.to(device)"
      ]
    },
    {
      "cell_type": "markdown",
      "id": "fec85d0a-4db4-4b1f-b599-8c2afc98520a",
      "metadata": {
        "id": "fec85d0a-4db4-4b1f-b599-8c2afc98520a"
      },
      "source": [
        "# Create the optimizer and learning rate scheduler\n",
        "\n",
        "Here, we use an Adam optimizer and a learning rate schedule depending on the configuration"
      ]
    },
    {
      "cell_type": "code",
      "execution_count": 31,
      "id": "5164537a-267b-4fda-9bcd-257dc3ac4826",
      "metadata": {
        "id": "5164537a-267b-4fda-9bcd-257dc3ac4826"
      },
      "outputs": [],
      "source": [
        "#Create the optimizer\n",
        "optimizer = torch.optim.Adam(model.parameters(),\n",
        "                                lr=1e-3,\n",
        "                                weight_decay=1e-4)\n",
        "\n",
        "scheduler = torch.optim.lr_scheduler.CosineAnnealingLR(optimizer, T_max=1000)\n"
      ]
    },
    {
      "cell_type": "markdown",
      "id": "e52a72eb-965a-4997-89a4-0cdfcbcb0a1a",
      "metadata": {
        "id": "e52a72eb-965a-4997-89a4-0cdfcbcb0a1a"
      },
      "source": [
        "# Creating the loss\n",
        "\n",
        "We will optimize the Sobolev norm but also evaluate our goal: the l2 relative error"
      ]
    },
    {
      "cell_type": "code",
      "execution_count": 32,
      "id": "07a53d9d-2d06-4d36-9b46-2c7f15f29c40",
      "metadata": {
        "id": "07a53d9d-2d06-4d36-9b46-2c7f15f29c40"
      },
      "outputs": [],
      "source": [
        "# Creating the losses\n",
        "l2loss = LpLoss(d=2, p=2)\n",
        "h1loss = H1Loss(d=2)\n",
        "train_loss = l2loss\n",
        "\n",
        "eval_losses={'h1': h1loss, 'l2': l2loss}"
      ]
    },
    {
      "cell_type": "code",
      "execution_count": 33,
      "id": "5dad660e-43e9-4f38-91f6-8427b14b8ae0",
      "metadata": {
        "colab": {
          "base_uri": "https://localhost:8080/"
        },
        "id": "5dad660e-43e9-4f38-91f6-8427b14b8ae0",
        "outputId": "92678db1-39c8-4180-b9d6-90fe356b3204"
      },
      "outputs": [
        {
          "output_type": "stream",
          "name": "stdout",
          "text": [
            "\n",
            "### MODEL ###\n",
            " FNO2d(\n",
            "  (positional_embedding): GridEmbeddingND()\n",
            "  (fno_blocks): FNOBlocks(\n",
            "    (convs): ModuleList(\n",
            "      (0-3): 4 x SpectralConv(\n",
            "        (weight): DenseTensor(shape=torch.Size([32, 32, 12, 7]), rank=None)\n",
            "      )\n",
            "    )\n",
            "    (fno_skips): ModuleList(\n",
            "      (0-3): 4 x Flattened1dConv(\n",
            "        (conv): Conv1d(32, 32, kernel_size=(1,), stride=(1,), bias=False)\n",
            "      )\n",
            "    )\n",
            "    (channel_mlp): ModuleList(\n",
            "      (0-3): 4 x ChannelMLP(\n",
            "        (fcs): ModuleList(\n",
            "          (0): Conv1d(32, 16, kernel_size=(1,), stride=(1,))\n",
            "          (1): Conv1d(16, 32, kernel_size=(1,), stride=(1,))\n",
            "        )\n",
            "      )\n",
            "    )\n",
            "    (channel_mlp_skips): ModuleList(\n",
            "      (0-3): 4 x SoftGating()\n",
            "    )\n",
            "  )\n",
            "  (lifting): ChannelMLP(\n",
            "    (fcs): ModuleList(\n",
            "      (0): Conv1d(3, 64, kernel_size=(1,), stride=(1,))\n",
            "      (1): Conv1d(64, 32, kernel_size=(1,), stride=(1,))\n",
            "    )\n",
            "  )\n",
            "  (projection): ChannelMLP(\n",
            "    (fcs): ModuleList(\n",
            "      (0): Conv1d(32, 64, kernel_size=(1,), stride=(1,))\n",
            "      (1): Conv1d(64, 1, kernel_size=(1,), stride=(1,))\n",
            "    )\n",
            "  )\n",
            ")\n",
            "\n",
            "### OPTIMIZER ###\n",
            " Adam (\n",
            "Parameter Group 0\n",
            "    amsgrad: False\n",
            "    betas: (0.9, 0.999)\n",
            "    capturable: False\n",
            "    differentiable: False\n",
            "    eps: 1e-08\n",
            "    foreach: None\n",
            "    fused: None\n",
            "    initial_lr: 0.001\n",
            "    lr: 0.001\n",
            "    maximize: False\n",
            "    weight_decay: 0.0001\n",
            ")\n",
            "\n",
            "### SCHEDULER ###\n",
            " <torch.optim.lr_scheduler.CosineAnnealingLR object at 0x78e1b5a3b310>\n",
            "\n",
            "### LOSSES ###\n",
            "\n",
            " * Train: <neuralop.losses.data_losses.LpLoss object at 0x78e1a8588810>\n",
            "\n",
            " * Test: {'h1': <neuralop.losses.data_losses.H1Loss object at 0x78e1b8b827d0>, 'l2': <neuralop.losses.data_losses.LpLoss object at 0x78e1a8588810>}\n",
            "\n",
            "### Beginning Training...\n",
            "\n"
          ]
        }
      ],
      "source": [
        "print('\\n### MODEL ###\\n', model)\n",
        "print('\\n### OPTIMIZER ###\\n', optimizer)\n",
        "print('\\n### SCHEDULER ###\\n', scheduler)\n",
        "print('\\n### LOSSES ###')\n",
        "print(f'\\n * Train: {train_loss}')\n",
        "print(f'\\n * Test: {eval_losses}')\n",
        "print(f'\\n### Beginning Training...\\n')\n"
      ]
    },
    {
      "cell_type": "markdown",
      "id": "b5967441-b8bc-4ea8-a4d9-7a5bea384cbf",
      "metadata": {
        "id": "b5967441-b8bc-4ea8-a4d9-7a5bea384cbf"
      },
      "source": [
        "# Creating the trainer"
      ]
    },
    {
      "cell_type": "code",
      "execution_count": 34,
      "id": "a19ebfd3-8a2b-42c0-af98-7a1db2dda0f6",
      "metadata": {
        "id": "a19ebfd3-8a2b-42c0-af98-7a1db2dda0f6"
      },
      "outputs": [],
      "source": [
        "trainer = Trainer(model=model, n_epochs=10, device=device)"
      ]
    },
    {
      "cell_type": "markdown",
      "id": "b16a3727-313d-4219-8f8f-0cec58d74b00",
      "metadata": {
        "id": "b16a3727-313d-4219-8f8f-0cec58d74b00"
      },
      "source": [
        "# Training the model"
      ]
    },
    {
      "cell_type": "code",
      "execution_count": 35,
      "id": "0d6e3298-99ee-4371-8bad-60e6aac03d56",
      "metadata": {
        "colab": {
          "base_uri": "https://localhost:8080/"
        },
        "id": "0d6e3298-99ee-4371-8bad-60e6aac03d56",
        "outputId": "863df418-c401-4566-c221-c4229425e410"
      },
      "outputs": [
        {
          "output_type": "execute_result",
          "data": {
            "text/plain": [
              "{'train_err': 4.016379587352276,\n",
              " 'avg_loss': 0.12852414679527283,\n",
              " 'avg_lasso_loss': None,\n",
              " 'epoch_train_time': 0.4435376469999994,\n",
              " '32_h1': tensor(0.2728, device='cuda:0'),\n",
              " '32_l2': tensor(0.1398, device='cuda:0'),\n",
              " '64_h1': tensor(0.3589, device='cuda:0'),\n",
              " '64_l2': tensor(0.1497, device='cuda:0')}"
            ]
          },
          "metadata": {},
          "execution_count": 35
        }
      ],
      "source": [
        "trainer.train(train_loader,\n",
        "              test_loaders,\n",
        "              optimizer,\n",
        "              scheduler,\n",
        "              training_loss=train_loss,\n",
        "              eval_losses=eval_losses)"
      ]
    },
    {
      "cell_type": "code",
      "source": [
        "trainer = Trainer(model=model, n_epochs=100, device=device)\n",
        "trainer.train(train_loader,\n",
        "              test_loaders,\n",
        "              optimizer,\n",
        "              scheduler,\n",
        "              training_loss=train_loss,\n",
        "              eval_losses=eval_losses)"
      ],
      "metadata": {
        "colab": {
          "base_uri": "https://localhost:8080/"
        },
        "id": "4-lq-BKBKKTU",
        "outputId": "3a4dd1a7-b5cb-4c0a-b801-4be8693818a1"
      },
      "id": "4-lq-BKBKKTU",
      "execution_count": 36,
      "outputs": [
        {
          "output_type": "execute_result",
          "data": {
            "text/plain": [
              "{'train_err': 1.172747127711773,\n",
              " 'avg_loss': 0.03752790808677673,\n",
              " 'avg_lasso_loss': None,\n",
              " 'epoch_train_time': 0.4511575999999877,\n",
              " '32_h1': tensor(0.1676, device='cuda:0'),\n",
              " '32_l2': tensor(0.0675, device='cuda:0'),\n",
              " '64_h1': tensor(0.2581, device='cuda:0'),\n",
              " '64_l2': tensor(0.0759, device='cuda:0')}"
            ]
          },
          "metadata": {},
          "execution_count": 36
        }
      ]
    },
    {
      "cell_type": "markdown",
      "id": "1b20be56-d200-44dc-b97b-fca021e353c8",
      "metadata": {
        "id": "1b20be56-d200-44dc-b97b-fca021e353c8"
      },
      "source": [
        "# Follow-up questions"
      ]
    },
    {
      "cell_type": "markdown",
      "id": "9a67e1d5-4b9a-4be3-bff4-fb2a6b152f9c",
      "metadata": {
        "id": "9a67e1d5-4b9a-4be3-bff4-fb2a6b152f9c"
      },
      "source": [
        "You can now play with the configuration and see how the performance is impacted.\n",
        "\n",
        "Which parameters do you think will most influence performance?\n",
        "Learning rate? Learning schedule? hidden_channels? Number of training samples?\n",
        "\n",
        "Does your intuition match the results you are getting?"
      ]
    }
  ],
  "metadata": {
    "kernelspec": {
      "display_name": "Python 3",
      "name": "python3"
    },
    "language_info": {
      "codemirror_mode": {
        "name": "ipython",
        "version": 3
      },
      "file_extension": ".py",
      "mimetype": "text/x-python",
      "name": "python",
      "nbconvert_exporter": "python",
      "pygments_lexer": "ipython3",
      "version": "3.8.8"
    },
    "vscode": {
      "interpreter": {
        "hash": "95d4b27ba6bfea4a66eebe0e0159b214d32a94d313a7f4c98bd9b87f5ee37cbe"
      }
    },
    "colab": {
      "provenance": [],
      "gpuType": "T4"
    },
    "accelerator": "GPU"
  },
  "nbformat": 4,
  "nbformat_minor": 5
}